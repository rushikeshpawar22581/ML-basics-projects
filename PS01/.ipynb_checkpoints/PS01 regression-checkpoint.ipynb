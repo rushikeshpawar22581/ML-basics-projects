{
 "cells": [
  {
   "cell_type": "code",
   "execution_count": 164,
   "id": "c382df69",
   "metadata": {},
   "outputs": [],
   "source": [
    "import numpy as np\n",
    "import matplotlib.pyplot as plt"
   ]
  },
  {
   "cell_type": "code",
   "execution_count": 165,
   "id": "1f95f8cb",
   "metadata": {},
   "outputs": [],
   "source": [
    "class LinearModel(object):\n",
    "    def __init__(self,theta0=None,max_itr=1000,LearningRate=8e-11,tol=1e-2):\n",
    "        self.theta=theta0\n",
    "        self.max_itr=max_itr\n",
    "        self.lr=LearningRate\n",
    "        self.tol=tol"
   ]
  },
  {
   "cell_type": "code",
   "execution_count": 166,
   "id": "a9616648",
   "metadata": {},
   "outputs": [],
   "source": [
    "class PoissonReg(LinearModel):\n",
    "    def h(self,x):\n",
    "        \"\"\"\n",
    "        args:\n",
    "            x: training data plus intercept added (m,n+1)\n",
    "        returns:\n",
    "            ypred: prediction (m,) by using rule h(x^(i))=exp(theta.Tx^(i))\n",
    "        \"\"\"\n",
    "        ypred=np.exp(x@self.theta) #(m,)\n",
    "        return ypred\n",
    "    \n",
    "    def loglikelihood(self,x,y):\n",
    "        '''\n",
    "        returns log likelihood as sum_over_i=1tom -log yi + yi theta.T xi - exp(theta.T xi)\n",
    "        '''\n",
    "        yhat=self.h(x) #(m,)\n",
    "        thetaTx= x@self.theta #(m,)\n",
    "        vec= -np.log(y)+y*thetaTx - yhat #(m,)\n",
    "        ans=vec.sum() #(m,)\n",
    "        return ans\n",
    "    \n",
    "    def fit(self,Xin,y):\n",
    "        '''\n",
    "        args:\n",
    "            Xin: training data set (m,n), m examples each having n features\n",
    "            y: labels (m,)\n",
    "        '''\n",
    "        #intercept feature is not in data, add it\n",
    "        m,n=Xin.shape\n",
    "        col1=np.ones((m,1),dtype=Xin.dtype)\n",
    "        x=np.hstack((col1,Xin))\n",
    "        \n",
    "        #initialize theta\n",
    "        self.theta=np.zeros((n+1))\n",
    "        \n",
    "        #gradietnt ascent\n",
    "        itr=0\n",
    "        while itr<self.max_itr:\n",
    "            print('itr ',itr+1,f' loglikelihood: {self.loglikelihood(x,y):0.2e}')\n",
    "            gradL=x.T@(y-self.h(x)) #(n+1,m)@((m,)-(m,))=(n+1,m)@(m,)=(n+1,)\n",
    "            theta_new=self.theta+self.lr*gradL #(n+1,)\n",
    "            \n",
    "            #check for convergence\n",
    "            if np.linalg.norm(self.lr*gradL,1)/np.linalg.norm(self.theta,1)<self.tol:\n",
    "                break\n",
    "            \n",
    "            #update\n",
    "            self.theta=theta_new.copy()\n",
    "            itr+=1\n",
    "        \n",
    "        \n",
    "    def predict(self,Xin):\n",
    "        '''\n",
    "        args:\n",
    "            Xin: test data set (m,n), m examples each having n features\n",
    "        '''\n",
    "        #intercept feature is not in data, add it\n",
    "        m,n=Xin.shape\n",
    "        col1=np.ones((m,1),dtype=Xin.dtype)\n",
    "        x=np.hstack((col1,Xin))\n",
    "        \n",
    "        ypred=self.h(x)\n",
    "        return ypred"
   ]
  },
  {
   "cell_type": "code",
   "execution_count": 167,
   "id": "2ea9827b",
   "metadata": {},
   "outputs": [],
   "source": [
    "def load_data(CSVpath):\n",
    "    #get headers\n",
    "    with open(CSVpath,'r') as csv:\n",
    "        headers=csv.readline().strip().split(',')\n",
    "    \n",
    "    #get indices of x cols and y cols\n",
    "    IndicesOfXcol=[i for i in range(len(headers)) if headers[i].startswith('x')]\n",
    "    IndicesOfYcol=[i for i in range(len(headers)) if headers[i]=='y']\n",
    "    \n",
    "    #extract columns \n",
    "    xs=np.loadtxt(CSVpath,delimiter=',',skiprows=1,usecols=IndicesOfXcol)\n",
    "    ys=np.loadtxt(CSVpath,delimiter=',',skiprows=1,usecols=IndicesOfYcol)\n",
    "    \n",
    "    return xs,ys\n",
    "    "
   ]
  },
  {
   "cell_type": "code",
   "execution_count": 168,
   "id": "a817e408",
   "metadata": {},
   "outputs": [],
   "source": [
    "def plot(y,ypred):\n",
    "    plt.plot(y,marker='o',color='green',markersize=3,linestyle='')\n",
    "    plt.plot(ypred,marker='+',color='black',markersize=4,linestyle='')\n",
    "    plt.show()"
   ]
  },
  {
   "cell_type": "code",
   "execution_count": null,
   "id": "05835f43",
   "metadata": {},
   "outputs": [],
   "source": []
  },
  {
   "cell_type": "code",
   "execution_count": 169,
   "id": "f02e6443",
   "metadata": {},
   "outputs": [],
   "source": [
    "xtrain,ytrain=load_data('data/ds4_train.csv')"
   ]
  },
  {
   "cell_type": "code",
   "execution_count": 170,
   "id": "e62406dd",
   "metadata": {},
   "outputs": [
    {
     "data": {
      "text/plain": [
       "array([[1.        , 0.        , 0.99204749, 0.32574102],\n",
       "       [0.        , 1.        , 0.47046345, 0.37186578],\n",
       "       [0.        , 1.        , 0.49653283, 0.28985262],\n",
       "       [0.        , 1.        , 0.1963769 , 0.69467223],\n",
       "       [0.        , 1.        , 0.22499177, 0.88080895]])"
      ]
     },
     "execution_count": 170,
     "metadata": {},
     "output_type": "execute_result"
    }
   ],
   "source": [
    "xtrain[:5,:]"
   ]
  },
  {
   "cell_type": "code",
   "execution_count": 171,
   "id": "7ed42452",
   "metadata": {},
   "outputs": [
    {
     "data": {
      "text/plain": [
       "(2500, 4)"
      ]
     },
     "execution_count": 171,
     "metadata": {},
     "output_type": "execute_result"
    }
   ],
   "source": [
    "xtrain.shape"
   ]
  },
  {
   "cell_type": "code",
   "execution_count": 172,
   "id": "d95b2f96",
   "metadata": {},
   "outputs": [
    {
     "data": {
      "text/plain": [
       "(2500,)"
      ]
     },
     "execution_count": 172,
     "metadata": {},
     "output_type": "execute_result"
    }
   ],
   "source": [
    "ytrain.shape"
   ]
  },
  {
   "cell_type": "code",
   "execution_count": 173,
   "id": "9cec4764",
   "metadata": {},
   "outputs": [
    {
     "data": {
      "text/plain": [
       "array([2463097.,  645481.,  474123., 1542136., 3705439.])"
      ]
     },
     "execution_count": 173,
     "metadata": {},
     "output_type": "execute_result"
    }
   ],
   "source": [
    "ytrain[:5]"
   ]
  },
  {
   "cell_type": "code",
   "execution_count": 174,
   "id": "a718d5f9",
   "metadata": {},
   "outputs": [
    {
     "name": "stdout",
     "output_type": "stream",
     "text": [
      "itr  1  loglikelihood: -3.79e+04\n",
      "itr  2  loglikelihood: 1.60e+10\n",
      "itr  3  loglikelihood: 3.21e+10\n",
      "itr  4  loglikelihood: 4.81e+10\n",
      "itr  5  loglikelihood: 6.42e+10\n",
      "itr  6  loglikelihood: 8.02e+10\n",
      "itr  7  loglikelihood: 9.62e+10\n",
      "itr  8  loglikelihood: 1.12e+11\n",
      "itr  9  loglikelihood: 1.24e+11\n",
      "itr  10  loglikelihood: 1.27e+11\n",
      "itr  11  loglikelihood: 1.28e+11\n",
      "itr  12  loglikelihood: 1.29e+11\n",
      "itr  13  loglikelihood: 1.29e+11\n",
      "itr  14  loglikelihood: 1.29e+11\n",
      "itr  15  loglikelihood: 1.29e+11\n",
      "itr  16  loglikelihood: 1.30e+11\n",
      "itr  17  loglikelihood: 1.30e+11\n",
      "itr  18  loglikelihood: 1.30e+11\n",
      "itr  19  loglikelihood: 1.30e+11\n",
      "itr  20  loglikelihood: 1.30e+11\n"
     ]
    },
    {
     "name": "stderr",
     "output_type": "stream",
     "text": [
      "C:\\Users\\rushi\\AppData\\Local\\Temp\\ipykernel_11324\\4089552496.py:44: RuntimeWarning: divide by zero encountered in scalar divide\n",
      "  if np.linalg.norm(self.lr*gradL,1)/np.linalg.norm(self.theta,1)<self.tol:\n"
     ]
    }
   ],
   "source": [
    "model=PoissonReg()\n",
    "model.fit(xtrain,ytrain)"
   ]
  },
  {
   "cell_type": "code",
   "execution_count": 175,
   "id": "0e4a4e37",
   "metadata": {},
   "outputs": [
    {
     "data": {
      "text/plain": [
       "array([6.38909414, 3.4109562 , 2.97813794, 3.47796583, 4.96934801])"
      ]
     },
     "execution_count": 175,
     "metadata": {},
     "output_type": "execute_result"
    }
   ],
   "source": [
    "model.theta"
   ]
  },
  {
   "cell_type": "code",
   "execution_count": 176,
   "id": "3c7327b1",
   "metadata": {},
   "outputs": [
    {
     "data": {
      "text/plain": [
       "array([ 2867864.13932515,   381329.21827843,   277766.14276992, ...,\n",
       "         721876.02415723, 10580779.00358438,   270828.95606647])"
      ]
     },
     "execution_count": 176,
     "metadata": {},
     "output_type": "execute_result"
    }
   ],
   "source": [
    "ypred=model.predict(xtrain)\n",
    "ypred"
   ]
  },
  {
   "cell_type": "code",
   "execution_count": 177,
   "id": "d0d0058b",
   "metadata": {},
   "outputs": [
    {
     "data": {
      "text/plain": [
       "array([ 2463097.,   645481.,   474123., ...,  1016002., 10620315.,\n",
       "         558245.])"
      ]
     },
     "execution_count": 177,
     "metadata": {},
     "output_type": "execute_result"
    }
   ],
   "source": [
    "ytrain"
   ]
  },
  {
   "cell_type": "code",
   "execution_count": 178,
   "id": "0a54cc4a",
   "metadata": {},
   "outputs": [
    {
     "data": {
      "image/png": "[encoded data removed]",
      "text/plain": [
       "<Figure size 640x480 with 1 Axes>"
      ]
     },
     "metadata": {},
     "output_type": "display_data"
    }
   ],
   "source": [
    "plot(ytrain,ypred)"
   ]
  },
  {
   "cell_type": "code",
   "execution_count": 75,
   "id": "e4371636",
   "metadata": {},
   "outputs": [],
   "source": [
    "def plot(y,ypred):\n",
    "    plt.plot(y,marker='o',color='green',markersize=3,linestyle='')\n",
    "    plt.plot(ypred,marker='+',color='black',markersize=8,linestyle='')\n",
    "    plt.show()"
   ]
  },
  {
   "cell_type": "code",
   "execution_count": null,
   "id": "c20e3d0c",
   "metadata": {},
   "outputs": [],
   "source": []
  }
 ],
 "metadata": {
  "kernelspec": {
   "display_name": "Python 3 (ipykernel)",
   "language": "python",
   "name": "python3"
  },
  "language_info": {
   "codemirror_mode": {
    "name": "ipython",
    "version": 3
   },
   "file_extension": ".py",
   "mimetype": "text/x-python",
   "name": "python",
   "nbconvert_exporter": "python",
   "pygments_lexer": "ipython3",
   "version": "3.11.4"
  }
 },
 "nbformat": 4,
 "nbformat_minor": 5
}
